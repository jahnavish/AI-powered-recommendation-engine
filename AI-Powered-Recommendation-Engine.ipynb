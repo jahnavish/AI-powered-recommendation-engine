{
 "cells": [
  {
   "cell_type": "markdown",
   "metadata": {},
   "source": [
    "# AI-POWERED RECOMMENDATION ENGINE\n",
    "\n",
    "\n",
    "This is an ***AI-powered recommendation engine*** designed to enhance user experience on an e-commerce platform. The recommendation engine leverages multiple strategies to deliver personalized and relevant product suggestions:\n",
    "\n",
    "**Content-Based Filtering:** This approach recommends products similar to those the user has shown interest in, based on product features and descriptions. It analyzes the attributes of products to provide tailored recommendations.\n",
    "\n",
    "**Popularity-Based Recommendations:** This method suggests products based on their popularity, considering metrics like the number of ratings and average ratings. It addresses cold start problems by promoting well-regarded items to new users.\n",
    "\n",
    "**Hybrid Approach:** Combining content-based and popularity-based methods, this strategy integrates both techniques to offer a comprehensive recommendation system. It balances personalization with broad appeal, enhancing the overall recommendation quality.\n",
    "\n",
    "The engine’s performance is evaluated using a controlled random sampling strategy to ensure accurate and representative results.\n",
    "\n",
    "### Evaluation Strategy\n",
    "\n",
    "To comprehensively evaluate the performance of the recommendation system, the following approach was adopted:\n",
    "\n",
    "#### 1. Recommendation Coverage\n",
    "\n",
    "**Recommendation Coverage** measures the proportion of unique products that have been recommended at least once among all products in the dataset. This metric provides insight into how well the recommendation system is covering the product space. To ensure robustness in evaluation:\n",
    "\n",
    "- **Sampling Method:** We utilized random sampling of 100 products from the dataset. This sampling helps control for randomness and provides a broad view of how the recommendation system performs across different products.\n",
    "- **Process:**\n",
    "  - For each sampled product, recommendations were generated using the `get_recommendations` function.\n",
    "  - The unique recommended products from each sample were collected.\n",
    "  - Coverage was computed as the ratio of unique recommended products to the total number of products in the dataset.\n",
    "\n",
    "#### 2. Consistency of Results\n",
    "\n",
    "To showcase the reliability of the recommendation system:\n",
    "\n",
    "- **Multiple Test Cases:** The evaluation was run multiple times using different samples to assess consistency in the coverage metric.\n",
    "- **Documentation of Results:**  This section visualizes the distribution of product ratings across the dataset. The histogram displays the frequency of different rating values, helping to understand the overall rating patterns and the spread of ratings among products.\n",
    "\n",
    "#### Conclusion\n",
    "\n",
    "The variability in the recommendation coverage metric emphasizes the need for repeated evaluations to capture a reliable performance measure. By controlling for randomness and using multiple test cases, we ensure that the evaluation provides a representative understanding of the recommendation system's performance."
   ]
  },
  {
   "cell_type": "code",
   "execution_count": 1,
   "metadata": {},
   "outputs": [],
   "source": [
    "import pandas as pd\n",
    "import numpy as np\n",
    "from sklearn.feature_extraction.text import TfidfVectorizer\n",
    "from sklearn.metrics.pairwise import linear_kernel\n",
    "import matplotlib.pyplot as plt\n",
    "import functools"
   ]
  },
  {
   "cell_type": "code",
   "execution_count": 2,
   "metadata": {},
   "outputs": [],
   "source": [
    "# Set the maximum column width to display full strings\n",
    "pd.set_option('display.max_colwidth', None)"
   ]
  },
  {
   "cell_type": "code",
   "execution_count": 3,
   "metadata": {},
   "outputs": [],
   "source": [
    "# Read the CSV file into a DataFrame\n",
    "df = pd.read_csv('All-Appliances.csv')"
   ]
  },
  {
   "cell_type": "code",
   "execution_count": 4,
   "metadata": {},
   "outputs": [
    {
     "data": {
      "text/html": [
       "<div>\n",
       "<style scoped>\n",
       "    .dataframe tbody tr th:only-of-type {\n",
       "        vertical-align: middle;\n",
       "    }\n",
       "\n",
       "    .dataframe tbody tr th {\n",
       "        vertical-align: top;\n",
       "    }\n",
       "\n",
       "    .dataframe thead th {\n",
       "        text-align: right;\n",
       "    }\n",
       "</style>\n",
       "<table border=\"1\" class=\"dataframe\">\n",
       "  <thead>\n",
       "    <tr style=\"text-align: right;\">\n",
       "      <th></th>\n",
       "      <th>name</th>\n",
       "      <th>main_category</th>\n",
       "      <th>sub_category</th>\n",
       "      <th>image</th>\n",
       "      <th>link</th>\n",
       "      <th>ratings</th>\n",
       "      <th>no_of_ratings</th>\n",
       "      <th>discount_price</th>\n",
       "      <th>actual_price</th>\n",
       "    </tr>\n",
       "  </thead>\n",
       "  <tbody>\n",
       "    <tr>\n",
       "      <th>0</th>\n",
       "      <td>Pigeon by Stovekraft Amaze Plus Electric Kettle (14289) with Stainless Steel Body, 1.5 litre, used for boiling Water, maki...</td>\n",
       "      <td>appliances</td>\n",
       "      <td>All Appliances</td>\n",
       "      <td>https://m.media-amazon.com/images/W/IMAGERENDERING_521856-T1/images/I/51DGcy8eBCL._AC_UL320_.jpg</td>\n",
       "      <td>https://www.amazon.in/Pigeon-Amaze-Plus-1-5-Ltr/dp/B07WMS7TWB/ref=sr_1_1?qid=1679135585&amp;s=appliances&amp;sr=1-1</td>\n",
       "      <td>3.9</td>\n",
       "      <td>128,941</td>\n",
       "      <td>₹599</td>\n",
       "      <td>₹1,245</td>\n",
       "    </tr>\n",
       "    <tr>\n",
       "      <th>1</th>\n",
       "      <td>Pigeon Polypropylene Mini Handy and Compact Chopper with 3 Blades for Effortlessly Chopping Vegetables and Fruits for Your...</td>\n",
       "      <td>appliances</td>\n",
       "      <td>All Appliances</td>\n",
       "      <td>https://m.media-amazon.com/images/W/IMAGERENDERING_521856-T1/images/I/51RXzjrUmkL._AC_UL320_.jpg</td>\n",
       "      <td>https://www.amazon.in/Pigeon-Stovekraft-Plastic-Chopper-Blades/dp/B01LWYDEQ7/ref=sr_1_2?qid=1679135585&amp;s=appliances&amp;sr=1-2</td>\n",
       "      <td>4.1</td>\n",
       "      <td>274,505</td>\n",
       "      <td>₹199</td>\n",
       "      <td>₹545</td>\n",
       "    </tr>\n",
       "    <tr>\n",
       "      <th>2</th>\n",
       "      <td>Glun Multipurpose Portable Electronic Digital Weighing Scale Weight Machine (10 Kg - with Back Light)</td>\n",
       "      <td>appliances</td>\n",
       "      <td>All Appliances</td>\n",
       "      <td>https://m.media-amazon.com/images/W/IMAGERENDERING_521856-T1/images/I/61ocesEh0cL._AC_UL320_.jpg</td>\n",
       "      <td>https://www.amazon.in/Multipurpose-Portable-Electronic-Digital-Weighing/dp/B09185QH3C/ref=sr_1_3?qid=1679135585&amp;s=appliances&amp;sr=1-3</td>\n",
       "      <td>3.8</td>\n",
       "      <td>365</td>\n",
       "      <td>₹199</td>\n",
       "      <td>₹899</td>\n",
       "    </tr>\n",
       "    <tr>\n",
       "      <th>3</th>\n",
       "      <td>beatXP Kitchen Scale Multipurpose Portable Electronic Digital Weighing Scale | Weight Machine With Back light LCD Display...</td>\n",
       "      <td>appliances</td>\n",
       "      <td>All Appliances</td>\n",
       "      <td>https://m.media-amazon.com/images/W/IMAGERENDERING_521856-T1/images/I/61Is7sICRJL._AC_UL320_.jpg</td>\n",
       "      <td>https://www.amazon.in/beatXP-Multipurpose-Portable-Electronic-Weighing/dp/B0B61DSF17/ref=sr_1_4?qid=1679135585&amp;s=appliances&amp;sr=1-4</td>\n",
       "      <td>3.7</td>\n",
       "      <td>3,290</td>\n",
       "      <td>₹299</td>\n",
       "      <td>₹1,999</td>\n",
       "    </tr>\n",
       "    <tr>\n",
       "      <th>4</th>\n",
       "      <td>Bajaj DX-6 1000W Dry Iron with Advance Soleplate and Anti-bacterial German Coating Technology, White</td>\n",
       "      <td>appliances</td>\n",
       "      <td>All Appliances</td>\n",
       "      <td>https://m.media-amazon.com/images/W/IMAGERENDERING_521856-T1/images/I/61qgKaW71mL._AC_UL320_.jpg</td>\n",
       "      <td>https://www.amazon.in/Bajaj-Majesty-1000-Watt-Iron-White/dp/B01C8P29N0/ref=sr_1_5?qid=1679135585&amp;s=appliances&amp;sr=1-5</td>\n",
       "      <td>4.2</td>\n",
       "      <td>24,380</td>\n",
       "      <td>₹625</td>\n",
       "      <td>₹1,400</td>\n",
       "    </tr>\n",
       "  </tbody>\n",
       "</table>\n",
       "</div>"
      ],
      "text/plain": [
       "                                                                                                                            name  \\\n",
       "0  Pigeon by Stovekraft Amaze Plus Electric Kettle (14289) with Stainless Steel Body, 1.5 litre, used for boiling Water, maki...   \n",
       "1  Pigeon Polypropylene Mini Handy and Compact Chopper with 3 Blades for Effortlessly Chopping Vegetables and Fruits for Your...   \n",
       "2                          Glun Multipurpose Portable Electronic Digital Weighing Scale Weight Machine (10 Kg - with Back Light)   \n",
       "3   beatXP Kitchen Scale Multipurpose Portable Electronic Digital Weighing Scale | Weight Machine With Back light LCD Display...   \n",
       "4                           Bajaj DX-6 1000W Dry Iron with Advance Soleplate and Anti-bacterial German Coating Technology, White   \n",
       "\n",
       "  main_category    sub_category  \\\n",
       "0    appliances  All Appliances   \n",
       "1    appliances  All Appliances   \n",
       "2    appliances  All Appliances   \n",
       "3    appliances  All Appliances   \n",
       "4    appliances  All Appliances   \n",
       "\n",
       "                                                                                              image  \\\n",
       "0  https://m.media-amazon.com/images/W/IMAGERENDERING_521856-T1/images/I/51DGcy8eBCL._AC_UL320_.jpg   \n",
       "1  https://m.media-amazon.com/images/W/IMAGERENDERING_521856-T1/images/I/51RXzjrUmkL._AC_UL320_.jpg   \n",
       "2  https://m.media-amazon.com/images/W/IMAGERENDERING_521856-T1/images/I/61ocesEh0cL._AC_UL320_.jpg   \n",
       "3  https://m.media-amazon.com/images/W/IMAGERENDERING_521856-T1/images/I/61Is7sICRJL._AC_UL320_.jpg   \n",
       "4  https://m.media-amazon.com/images/W/IMAGERENDERING_521856-T1/images/I/61qgKaW71mL._AC_UL320_.jpg   \n",
       "\n",
       "                                                                                                                                  link  \\\n",
       "0                          https://www.amazon.in/Pigeon-Amaze-Plus-1-5-Ltr/dp/B07WMS7TWB/ref=sr_1_1?qid=1679135585&s=appliances&sr=1-1   \n",
       "1           https://www.amazon.in/Pigeon-Stovekraft-Plastic-Chopper-Blades/dp/B01LWYDEQ7/ref=sr_1_2?qid=1679135585&s=appliances&sr=1-2   \n",
       "2  https://www.amazon.in/Multipurpose-Portable-Electronic-Digital-Weighing/dp/B09185QH3C/ref=sr_1_3?qid=1679135585&s=appliances&sr=1-3   \n",
       "3   https://www.amazon.in/beatXP-Multipurpose-Portable-Electronic-Weighing/dp/B0B61DSF17/ref=sr_1_4?qid=1679135585&s=appliances&sr=1-4   \n",
       "4                 https://www.amazon.in/Bajaj-Majesty-1000-Watt-Iron-White/dp/B01C8P29N0/ref=sr_1_5?qid=1679135585&s=appliances&sr=1-5   \n",
       "\n",
       "  ratings no_of_ratings discount_price actual_price  \n",
       "0     3.9       128,941           ₹599       ₹1,245  \n",
       "1     4.1       274,505           ₹199         ₹545  \n",
       "2     3.8           365           ₹199         ₹899  \n",
       "3     3.7         3,290           ₹299       ₹1,999  \n",
       "4     4.2        24,380           ₹625       ₹1,400  "
      ]
     },
     "execution_count": 4,
     "metadata": {},
     "output_type": "execute_result"
    }
   ],
   "source": [
    "# Display the first few rows\n",
    "df.head()"
   ]
  },
  {
   "cell_type": "markdown",
   "metadata": {},
   "source": [
    "## Data Preprocessing\n",
    "\n",
    "This section handles the data cleaning and preprocessing steps necessary to prepare the dataset for the recommendation engine. The primary tasks include checking for and handling missing values, as well as identifying and managing duplicate records."
   ]
  },
  {
   "cell_type": "code",
   "execution_count": 5,
   "metadata": {},
   "outputs": [
    {
     "data": {
      "text/plain": [
       "0"
      ]
     },
     "execution_count": 5,
     "metadata": {},
     "output_type": "execute_result"
    }
   ],
   "source": [
    "# Check for duplicates\n",
    "df.duplicated().sum()"
   ]
  },
  {
   "cell_type": "code",
   "execution_count": 6,
   "metadata": {},
   "outputs": [
    {
     "data": {
      "text/plain": [
       "name                0\n",
       "main_category       0\n",
       "sub_category        0\n",
       "image               0\n",
       "link                0\n",
       "ratings           478\n",
       "no_of_ratings     478\n",
       "discount_price    362\n",
       "actual_price       91\n",
       "dtype: int64"
      ]
     },
     "execution_count": 6,
     "metadata": {},
     "output_type": "execute_result"
    }
   ],
   "source": [
    "# Check for for missing values in the dataset which is crucial for ensuring the quality of the data used in the recommender system.\n",
    "df.isnull().sum()"
   ]
  },
  {
   "cell_type": "code",
   "execution_count": 7,
   "metadata": {},
   "outputs": [],
   "source": [
    "# Ensure the ratings, discount_price, actual_price and no_of_ratings are numeric\n",
    "df['ratings'] = pd.to_numeric(df['ratings'], errors='coerce')\n",
    "df['discount_price'] = pd.to_numeric(df['ratings'], errors='coerce')\n",
    "df['actual_price'] = pd.to_numeric(df['ratings'], errors='coerce')\n",
    "df['no_of_ratings'] = pd.to_numeric(df['no_of_ratings'], errors='coerce')\n",
    "\n",
    "# Fill missing values\n",
    "df['ratings'].fillna(df['ratings'].mean(), inplace=True)\n",
    "df['no_of_ratings'].fillna(0, inplace=True)\n",
    "df['discount_price'].fillna(df['discount_price'].mean(), inplace=True)\n",
    "df['actual_price'].fillna(df['actual_price'].mean(), inplace=True)"
   ]
  },
  {
   "cell_type": "markdown",
   "metadata": {},
   "source": [
    "## Content-Based Recommender System\n",
    "\n",
    "This recommender system leverages content-based filtering to provide product recommendations.\n",
    "The core idea is to recommend products that are similar to a given product based on the content features.\n",
    "\n",
    "Steps Taken:\n",
    "1. **Feature Combination**: We combine multiple product features (name, main_category, sub_category, and description) into a single string. This allows the TF-IDF Vectorizer to process a comprehensive representation of each product.\n",
    "2. **Text Processing**: We use the TF-IDF Vectorizer to convert the combined features into numerical vectors, capturing the importance of terms in the context of the entire dataset.\n",
    "3. **Similarity Calculation**: We compute cosine similarity between these vectors to quantify how similar products are to each other.\n",
    "4. **Recommendation Generation**: Given a product, we find the most similar products based on the cosine similarity scores and return the top recommendations.\n",
    "\n",
    "The content-based approach ensures that recommendations are based on the product's features, making it suitable for users who have a specific product in mind and want similar items."
   ]
  },
  {
   "cell_type": "code",
   "execution_count": 8,
   "metadata": {},
   "outputs": [],
   "source": [
    "# Combine features into a single string (convert to string to avoid type errors)\n",
    "df['combined_features'] = df['name'].astype(str) + ' ' + df['main_category'].astype(str) + ' ' + df['sub_category'].astype(str)"
   ]
  },
  {
   "cell_type": "code",
   "execution_count": 9,
   "metadata": {},
   "outputs": [],
   "source": [
    "# Initialize the TF-IDF Vectorizer\n",
    "tfidf = TfidfVectorizer(stop_words='english')\n",
    "\n",
    "# Fit and transform the data\n",
    "tfidf_matrix = tfidf.fit_transform(df['combined_features'])"
   ]
  },
  {
   "cell_type": "code",
   "execution_count": 10,
   "metadata": {},
   "outputs": [],
   "source": [
    "# Compute the cosine similarity matrix\n",
    "cosine_sim = linear_kernel(tfidf_matrix, tfidf_matrix)"
   ]
  },
  {
   "cell_type": "code",
   "execution_count": 11,
   "metadata": {},
   "outputs": [],
   "source": [
    "# Content-Based Recommendation function with caching\n",
    "\n",
    "# Caching is implemented for the recommendation system to improve performance and efficiency.\n",
    "# It is particularly useful for storing frequently accessed recommendations to avoid redundant computations.\n",
    "# The implementation uses Python's built-in `functools.lru_cache` to store the results of the `get_recommendations` function.\n",
    "# The maxsize parameter defines the maximum number of items to cache. \n",
    "# This will help in quickly returning the recommendations for frequently accessed products without recalculating the similarity each time.\n",
    "\n",
    "@functools.lru_cache(maxsize=100)\n",
    "def get_recommendations(name, cosine_sim=cosine_sim):\n",
    "    if name not in df['name'].values:\n",
    "        return \"Product not found in the dataset.\"\n",
    "    \n",
    "    # Get the index of the product that matches the name\n",
    "    idx = df[df['name'] == name].index[0]\n",
    "\n",
    "    # Get the pairwise similarity scores of all products with that product\n",
    "    sim_scores = list(enumerate(cosine_sim[idx]))\n",
    "\n",
    "    # Sort the products based on the similarity scores\n",
    "    sim_scores = sorted(sim_scores, key=lambda x: x[1], reverse=True)\n",
    "\n",
    "    # Get the scores of the 10 most similar products\n",
    "    sim_scores = sim_scores[1:11]\n",
    "\n",
    "    # Get the product indices\n",
    "    product_indices = [i[0] for i in sim_scores]\n",
    "\n",
    "    # Return the top 10 most similar products\n",
    "    return df.iloc[product_indices][['name', 'link', 'ratings', 'discount_price', 'actual_price']]"
   ]
  },
  {
   "cell_type": "markdown",
   "metadata": {},
   "source": [
    "## Popularity-Based Recommender System\n",
    "\n",
    "This recommender system provides recommendations based on the popularity of products.\n",
    "The approach is straightforward: recommend products that have been rated highly or have received many ratings.\n",
    "\n",
    "Steps Taken:\n",
    "1. **Sorting by Popularity**: Products are sorted based on the number of ratings they have received, in descending order. This assumes that products with more ratings are more popular or well-received.\n",
    "2. **Recommendation Generation**: We select the top 'n' products based on this sorted list and return them as recommendations.\n",
    "\n",
    "The popularity-based approach is effective for cold-start problems where user preferences are unknown. It leverages aggregate user behavior to recommend products that are generally well-regarded."
   ]
  },
  {
   "cell_type": "code",
   "execution_count": 12,
   "metadata": {},
   "outputs": [
    {
     "name": "stdout",
     "output_type": "stream",
     "text": [
      "                                                                                                                              name  \\\n",
      "413                                                                                  Bajaj PYGMY 178mm White Personal Fan, Regular   \n",
      "2034                     ELITE PRODUCTS Top Load Washing Machine Cover Suitable for Samsung {Back Panel-New Model} 6.5KG,7KG,7.5KG   \n",
      "2305  SMIPLEBOL - The Best Is Here Washing Machine Magic Filter (or) Dust Lint Bag (or) Waste Collector Net Compatible for Samsung   \n",
      "2779                                Havells Monza EC 15-Litre Vertical Storage Water Heater (Geyser) with Flexi Pipe, White 5 Star   \n",
      "2947     Wonderchef Sumo Mixer Grinder 1000W With 3 Stainless Steel & 1 Fruit Filter Jar 5 Years Warranty On Motor, Rust And Black   \n",
      "2525                                Inditradition Silicone Iron Mat Pad | High Heat Resistant Iron Insulation Pad, 27x14 cm (Blue)   \n",
      "2553                                Inditradition Silicone Iron Mat Pad | High Heat Resistant Iron Insulation Pad, 27x14 cm (Blue)   \n",
      "5490                                                MACMILLAN AQUAFRESH ï¸Water Cartridge, 9 Inch Sediment for Guard, 8 Pieces Set   \n",
      "2831                   FLORA AND CO Stainless Steel Chutney Jar - 400ml-compatible with maximum Indian Mixer Grinder brands 400Ml.   \n",
      "2519                                                                                   Prestige Cordless Magic Steam Iron PSI 11.0   \n",
      "\n",
      "                                                                                                                                          link  \\\n",
      "413                   https://www.amazon.in/Bajaj-PYGMY-178mm-Personal-Regular/dp/B0995YG2XM/ref=sr_1_414?qid=1679135610&s=appliances&sr=1-414   \n",
      "2034          https://www.amazon.in/ELITE-PRODUCTS-Samsung-Washing-Panel-New/dp/B07YW7D561/ref=sr_1_2035?qid=1679135709&s=appliances&sr=1-2035   \n",
      "2305    https://www.amazon.in/SMIPLEBOL-Samsung-Washing-Compatible-Collector/dp/B07WW741V6/ref=sr_1_2306?qid=1679135725&s=appliances&sr=1-2306   \n",
      "2779                      https://www.amazon.in/Havells-Monza-EC-5S-15-Litre/dp/B0152VTV92/ref=sr_1_2780?qid=1679135751&s=appliances&sr=1-2780   \n",
      "2947      https://www.amazon.in/Wonderchef-Grinder-Stainless-Filter-Warranty/dp/B097DHW3M1/ref=sr_1_2948?qid=1679135760&s=appliances&sr=1-2948   \n",
      "2525   https://www.amazon.in/Inditradition-Silicone-Resistant-27x14-Assorted/dp/B077SPDN72/ref=sr_1_2526?qid=1679135737&s=appliances&sr=1-2526   \n",
      "2553   https://www.amazon.in/Inditradition-Silicone-Resistant-27x14-Assorted/dp/B077SPDN72/ref=sr_1_2554?qid=1679135739&s=appliances&sr=1-2554   \n",
      "5490  https://www.amazon.in/MACMILLAN-AQUAFRESH-Cartridge-Sediment-Aquaguard/dp/B07QVMLMWK/ref=sr_1_5515?qid=1679135903&s=appliances&sr=1-5515   \n",
      "2831    https://www.amazon.in/Flora-Stainless-Steel-Chutney-400ml-compatible/dp/B08ML81YJJ/ref=sr_1_2832?qid=1679135754&s=appliances&sr=1-2832   \n",
      "2519            https://www.amazon.in/Prestige-Cordless-Magic-Steam-PSI-11-0/dp/B07RZL6R73/ref=sr_1_2520?qid=1679135736&s=appliances&sr=1-2520   \n",
      "\n",
      "      ratings  discount_price  actual_price  \n",
      "413       4.0             4.0           4.0  \n",
      "2034      4.3             4.3           4.3  \n",
      "2305      4.1             4.1           4.1  \n",
      "2779      4.3             4.3           4.3  \n",
      "2947      3.6             3.6           3.6  \n",
      "2525      4.3             4.3           4.3  \n",
      "2553      4.3             4.3           4.3  \n",
      "5490      3.7             3.7           3.7  \n",
      "2831      4.0             4.0           4.0  \n",
      "2519      3.8             3.8           3.8  \n"
     ]
    }
   ],
   "source": [
    "# Popularity-Based Recommender\n",
    "def get_popular_products(n=10):\n",
    "    popular_products = df.sort_values(by='no_of_ratings', ascending=False)\n",
    "    return popular_products[['name', 'link', 'ratings', 'discount_price', 'actual_price']].head(n)\n",
    "\n",
    "# Print the popular products\n",
    "print(get_popular_products())"
   ]
  },
  {
   "cell_type": "markdown",
   "metadata": {},
   "source": [
    "## Hybrid Recommender System\n",
    "\n",
    "The hybrid recommender system combines content-based filtering and popularity-based filtering to provide more comprehensive recommendations. By integrating both approaches, we aim to capture the benefits of each and improve the overall recommendation quality.\n",
    "\n",
    "Steps Taken:\n",
    "1. **Content-Based Recommendations**: We first generate recommendations based on content similarity. This takes into account the specific attributes of the products.\n",
    "2. **Popularity-Based Recommendations**: We then generate recommendations based on product popularity, ensuring that well-rated and popular products are also considered.\n",
    "3. **Combining Recommendations**: We merge the results from both the content-based and popularity-based systems. This could involve simply combining lists or applying a weighted approach based on the context.\n",
    "\n",
    "The hybrid approach balances personalized recommendations with general trends, potentially providing more relevant suggestions by leveraging both individual product attributes and overall popularity trends."
   ]
  },
  {
   "cell_type": "code",
   "execution_count": 13,
   "metadata": {},
   "outputs": [],
   "source": [
    "# Hybrid Recommender: Combining Content-Based and Popularity-Based\n",
    "def hybrid_recommendations(name, cosine_sim=cosine_sim, n=10):\n",
    "    content_recs = get_recommendations(name)\n",
    "    popular_recs = get_popular_products(n)\n",
    "    \n",
    "    # Combine and ensure uniqueness\n",
    "    combined_recs = pd.concat([content_recs, popular_recs]).drop_duplicates().head(n)\n",
    "    return combined_recs"
   ]
  },
  {
   "cell_type": "markdown",
   "metadata": {},
   "source": [
    "## Testing the Recommendation System\n",
    "\n",
    "To evaluate the recommendation system, I am randomly sampling 6 products from the dataset to test the recommendation system (Content-Based as well as Hybrid Recommendion System). This ensures a diverse set of products and helps in evaluating the system's performance across various types of products."
   ]
  },
  {
   "cell_type": "code",
   "execution_count": 14,
   "metadata": {},
   "outputs": [
    {
     "data": {
      "text/plain": [
       "0    Pigeon by Stovekraft Amaze Plus Electric Kettle (14289) with Stainless Steel Body, 1.5 litre, used for boiling Water, maki...\n",
       "1    Pigeon Polypropylene Mini Handy and Compact Chopper with 3 Blades for Effortlessly Chopping Vegetables and Fruits for Your...\n",
       "2                            Glun Multipurpose Portable Electronic Digital Weighing Scale Weight Machine (10 Kg - with Back Light)\n",
       "3     beatXP Kitchen Scale Multipurpose Portable Electronic Digital Weighing Scale | Weight Machine With Back light LCD Display...\n",
       "4                             Bajaj DX-6 1000W Dry Iron with Advance Soleplate and Anti-bacterial German Coating Technology, White\n",
       "5                                                                                          Bajaj Frore 1200 mm Ceiling Fan (Brown)\n",
       "6           Kuber Industries Nylon Mesh Laundry Basket|Sturdy Material & Durable Handles|Netted Lightweight Laundry Bag (Assorted)\n",
       "7                                                                Prestige Electric Kettle PKOSS - 1500watts, Steel (1.5Ltr), Black\n",
       "8                                                       NutriPro Juicer Mixer Grinder - Smoothie Maker - 500 Watts (3 Jar, Silver)\n",
       "9                                                                            Philips GC1905 1440-Watt Steam Iron with Spray (Blue)\n",
       "Name: name, dtype: object"
      ]
     },
     "execution_count": 14,
     "metadata": {},
     "output_type": "execute_result"
    }
   ],
   "source": [
    "# Display a list of product names to get recommendations for\n",
    "df.head(10)['name']"
   ]
  },
  {
   "cell_type": "code",
   "execution_count": 15,
   "metadata": {},
   "outputs": [
    {
     "name": "stdout",
     "output_type": "stream",
     "text": [
      "                                                      name  \\\n",
      "3504              Bajaj Frore EE 1200 mm Brown Ceiling Fan   \n",
      "3901              Bajaj Frore EE 1200 mm White Ceiling Fan   \n",
      "6243        Bajaj Edge HS 1200 mm Ceiling Fan (Dark Brown)   \n",
      "305                Bajaj Maxima 600 mm Ceiling Fan (Brown)   \n",
      "5863  Bajaj Edge HS Deco 1200 mm Ceiling Fan (Choko Brown)   \n",
      "5949  Bajaj Edge HS Deco 1200 mm Ceiling Fan (Choko Brown)   \n",
      "6078                 Bajaj Edge 1200mm Ceiling Fan (Brown)   \n",
      "4167  Bajaj Regal Gold 4 Blade 1200 mm Ceiling Fan (Ivory)   \n",
      "4459  Bajaj Regal Gold 4 Blade 1200 mm Ceiling Fan (Ivory)   \n",
      "6485        Bajaj Edge HS 1200 mm Ceiling Fan (Opal White)   \n",
      "\n",
      "                                                                                                                                                                                link  \\\n",
      "3504                                                          https://www.amazon.in/Bajaj-Frore-1200-Brown-Ceiling/dp/B0BW4KJ6D1/ref=sr_1_3505?qid=1679135792&s=appliances&sr=1-3505   \n",
      "3901                                                          https://www.amazon.in/Bajaj-Frore-1200-White-Ceiling/dp/B0BW4HWBHY/ref=sr_1_3902?qid=1679135814&s=appliances&sr=1-3902   \n",
      "6243                                                             https://www.amazon.in/Bajaj-Edge-HS-Ceiling-Brown/dp/B07P5KXYG8/ref=sr_1_6268?qid=1679135946&s=appliances&sr=1-6268   \n",
      "305                                                             https://www.amazon.in/Bajaj-Maxima-600-Ceiling-Brown/dp/B00KL56N8C/ref=sr_1_306?qid=1679135602&s=appliances&sr=1-306   \n",
      "5863      https://www.amazon.in/Bajaj-Edge-Deco-Choko-Brown/dp/B082W83DQQ/ref=sr_1_5888_mod_primary_new?qid=1679135925&s=appliances&sbo=RZvfv%2F%2FHxDF%2BO5021pAnSA%3D%3D&sr=1-5888   \n",
      "5949      https://www.amazon.in/Bajaj-Edge-Deco-Choko-Brown/dp/B082W83DQQ/ref=sr_1_5974_mod_primary_new?qid=1679135929&s=appliances&sbo=RZvfv%2F%2FHxDF%2BO5021pAnSA%3D%3D&sr=1-5974   \n",
      "6078  https://www.amazon.in/Bajaj-Edge-1200mm-Ceiling-Brown/dp/B01D36TODG/ref=sr_1_6103_mod_primary_new?qid=1679135937&s=appliances&sbo=RZvfv%2F%2FHxDF%2BO5021pAnSA%3D%3D&sr=1-6103   \n",
      "4167                                                          https://www.amazon.in/Bajaj-Regal-Gold-Blade-Ceiling/dp/B00KL56BWA/ref=sr_1_4168?qid=1679135829&s=appliances&sr=1-4168   \n",
      "4459                                                          https://www.amazon.in/Bajaj-Regal-Gold-Blade-Ceiling/dp/B00KL56BWA/ref=sr_1_4460?qid=1679135845&s=appliances&sr=1-4460   \n",
      "6485      https://www.amazon.in/Bajaj-Edge-HS-Ceiling-White/dp/B07P5KYVJJ/ref=sr_1_6510_mod_primary_new?qid=1679135960&s=appliances&sbo=RZvfv%2F%2FHxDF%2BO5021pAnSA%3D%3D&sr=1-6510   \n",
      "\n",
      "       ratings  discount_price  actual_price  \n",
      "3504  3.926864        3.926864      3.926864  \n",
      "3901  3.926864        3.926864      3.926864  \n",
      "6243  3.900000        3.900000      3.900000  \n",
      "305   4.200000        4.200000      4.200000  \n",
      "5863  3.800000        3.800000      3.800000  \n",
      "5949  3.800000        3.800000      3.800000  \n",
      "6078  4.000000        4.000000      4.000000  \n",
      "4167  4.100000        4.100000      4.100000  \n",
      "4459  4.100000        4.100000      4.100000  \n",
      "6485  4.000000        4.000000      4.000000  \n"
     ]
    }
   ],
   "source": [
    "# Testing the Content-Based Recommender System\n",
    "# Test Case 1\n",
    "print(get_recommendations('Bajaj Frore 1200 mm Ceiling Fan (Brown)'))"
   ]
  },
  {
   "cell_type": "code",
   "execution_count": 16,
   "metadata": {},
   "outputs": [
    {
     "name": "stdout",
     "output_type": "stream",
     "text": [
      "                                                                                                                               name  \\\n",
      "357                                                                      Philips GC1920/28 1440-Watt Non-Stick Soleplate Steam Iron   \n",
      "1933                                                                              Philips GC1010 1200-Watt Comfort Steam Spray Iron   \n",
      "4070                                                                   AGARO Shine 2200-Watt with Steam & Spray Iron (White & Blue)   \n",
      "5146                                                                                           Philips GC1015 1200-Watt Iron (Blue)   \n",
      "3746                                                                                                  MINI PORTABLE IRON STEAM IRON   \n",
      "5649                                                                                     Philips GC1022 2000-Watt Steam Iron (Pink)   \n",
      "6473                                                          Tefal Steam Essential 1200 Watt Non Stick Steam Iron (Blue and Black)   \n",
      "6226                                                                                              Philips GC1015 Steam Iron (Green)   \n",
      "5713  SYSKA Steam Iron | 2 Year Warranty | Iron Press Steam, Steam Iron box, Steam Iron for Clothes, SSI-1600 AMARA 1600 Watt St...   \n",
      "1716  AGARO Steam Iron Edge+ 1600W with Continuous Steam, Non-Stick Coated Sole Plate, Variable Steam Control, Spray/Steam/Dry F...   \n",
      "\n",
      "                                                                                                                                                                                link  \\\n",
      "357                                                      https://www.amazon.in/Philips-GC1920-28-1440-Watt-Non-Stick/dp/B008LN8KDM/ref=sr_1_358?qid=1679135605&s=appliances&sr=1-358   \n",
      "1933                                                  https://www.amazon.in/Philips-GC1010-1200-Watt-Comfort-Steam/dp/B0000DHL9I/ref=sr_1_1934?qid=1679135704&s=appliances&sr=1-1934   \n",
      "4070                                                       https://www.amazon.in/AGARO-Shine-2200-Watt-Steam-Spray/dp/B08455NH81/ref=sr_1_4071?qid=1679135824&s=appliances&sr=1-4071   \n",
      "5146                                                      https://www.amazon.in/Philips-GC1015-1200-Watt-Iron-Blue/dp/B006TQQ7EW/ref=sr_1_5171?qid=1679135885&s=appliances&sr=1-5171   \n",
      "3746                                                                https://www.amazon.in/MINI-PORTABLE-IRON-STEAM/dp/B0BY3H16VJ/ref=sr_1_3747?qid=1679135807&s=appliances&sr=1-3747   \n",
      "5649                                                     https://www.amazon.in/Philips-GC1022-2000-Watt-Steam-Iron/dp/B014QZE4IS/ref=sr_1_5674?qid=1679135913&s=appliances&sr=1-5674   \n",
      "6473                                                        https://www.amazon.in/Tefal-Steam-Essential-1200-Stick/dp/B0859L87WC/ref=sr_1_6498?qid=1679135959&s=appliances&sr=1-6498   \n",
      "6226  https://www.amazon.in/Philips-GC1015-Steam-Iron-Green/dp/B07DFC38S3/ref=sr_1_6251_mod_primary_new?qid=1679135945&s=appliances&sbo=RZvfv%2F%2FHxDF%2BO5021pAnSA%3D%3D&sr=1-6251   \n",
      "5713                                               https://www.amazon.in/Syska-SSI-1600-Vertical-Horizontal-Bursts/dp/B09W32TD54/ref=sr_1_5738?qid=1679135917&s=appliances&sr=1-5738   \n",
      "1716                                                  https://www.amazon.in/AGARO-Edge-Non-Stick-Variable-Function/dp/B07WRLK6BQ/ref=sr_1_1717?qid=1679135690&s=appliances&sr=1-1717   \n",
      "\n",
      "       ratings  discount_price  actual_price  \n",
      "357   4.300000        4.300000      4.300000  \n",
      "1933  4.200000        4.200000      4.200000  \n",
      "4070  3.300000        3.300000      3.300000  \n",
      "5146  4.200000        4.200000      4.200000  \n",
      "3746  3.926864        3.926864      3.926864  \n",
      "5649  3.700000        3.700000      3.700000  \n",
      "6473  3.700000        3.700000      3.700000  \n",
      "6226  4.100000        4.100000      4.100000  \n",
      "5713  3.926864        3.926864      3.926864  \n",
      "1716  3.600000        3.600000      3.600000  \n"
     ]
    }
   ],
   "source": [
    "# Test Case 2\n",
    "print(get_recommendations('Philips GC1905 1440-Watt Steam Iron with Spray (Blue)'))"
   ]
  },
  {
   "cell_type": "code",
   "execution_count": 17,
   "metadata": {},
   "outputs": [
    {
     "name": "stdout",
     "output_type": "stream",
     "text": [
      "                                                                                                                               name  \\\n",
      "1793  Elekart Juicer Mixer Grinder - Smoothie Maker - 500 Watts with Powerful Motor, Silver Stainless-steel body, Perfect food p...   \n",
      "8655                                                                           Philips HL1631 Juicer Mixer Grinder 500 Watts, White   \n",
      "3939                       Cello Grind-N-Mix Elite Mixer Grinder, 500 Watts, 3 Stainless Steel Jar and 1 Juicer Jar, Blue and White   \n",
      "4761  Mixer Grinder Chutney Jar (500 ml) HEAVY QUALITY Mixer Jar Mixer Juicer Jar Suitable for all Local & Branded Mixer which c...   \n",
      "5921  Philocaly Enterprise Mixer Grinder Chutney Jar (500 ml) HEAVY QUALITY Mixer Jar Mixer Juicer Jar Suitable for all Local & ...   \n",
      "6010  Philocaly Enterprise Mixer Grinder Chutney Jar (500 ml) HEAVY QUALITY Mixer Jar Mixer Juicer Jar Suitable for all Local & ...   \n",
      "2098  Electric Juicer Portable | Mini Portable Blender Mixer Smoothie | Bottle Juicer Blender | Shake Maker Juice Mixer | Juicer...   \n",
      "2177  The Quasar Store Mixer Grinder Chutney Jar (500 ml) Mixer Jar Mixer Juicer Jar Suitable for all Local & Branded Mixer whic...   \n",
      "8956                                                                   Philips HL1631/00 500-Watt 2 Jar Juicer Mixer Grinder (Blue)   \n",
      "7177                                                    Philips HL1632 500-Watt 3 Jar Juicer Mixer Grinder with Fruit Filter (Blue)   \n",
      "\n",
      "                                                                                                                                       link  \\\n",
      "1793   https://www.amazon.in/Elekart-Juicer-Mixer-Grinder-Stainless-steel/dp/B0BRBH3436/ref=sr_1_1794?qid=1679135695&s=appliances&sr=1-1794   \n",
      "8655            https://www.amazon.in/Philips-HL1631-Juicer-Mixer-Grinder/dp/B01CZNGFC6/ref=sr_1_8680?qid=1679136078&s=appliances&sr=1-8680   \n",
      "3939         https://www.amazon.in/Cello-GNM_Elite-500-Watt-Mixer-Grinder/dp/B07CDCX5P2/ref=sr_1_3940?qid=1679135817&s=appliances&sr=1-3940   \n",
      "4761       https://www.amazon.in/Grinder-Chutney-QUALITY-Suitable-Branded/dp/B0BWV7WYSH/ref=sr_1_4762?qid=1679135862&s=appliances&sr=1-4762   \n",
      "5921  https://www.amazon.in/Philocaly-Enterprise-Grinder-Chutney-Suitable/dp/B0BS3ZPVYD/ref=sr_1_5946?qid=1679135927&s=appliances&sr=1-5946   \n",
      "6010  https://www.amazon.in/Philocaly-Enterprise-Grinder-Chutney-Suitable/dp/B0BS3ZPVYD/ref=sr_1_6035?qid=1679135933&s=appliances&sr=1-6035   \n",
      "2098    https://www.amazon.in/Electric-Portable-Blender-Smoothie-Outdoors/dp/B0BQNDMJD6/ref=sr_1_2099?qid=1679135713&s=appliances&sr=1-2099   \n",
      "2177              https://www.amazon.in/Quasar-Store-Grinder-Jar-Suitable/dp/B0B6GBJ82X/ref=sr_1_2178?qid=1679135717&s=appliances&sr=1-2178   \n",
      "8956         https://www.amazon.in/Philips-HL1631-500-Watt-Juicer-Grinder/dp/B009UORBV8/ref=sr_1_8981?qid=1679136095&s=appliances&sr=1-8981   \n",
      "7177         https://www.amazon.in/Philips-HL1632-500-Watt-Juicer-Grinder/dp/B006TQPZ40/ref=sr_1_7202?qid=1679135999&s=appliances&sr=1-7202   \n",
      "\n",
      "       ratings  discount_price  actual_price  \n",
      "1793  5.000000        5.000000      5.000000  \n",
      "8655  3.900000        3.900000      3.900000  \n",
      "3939  3.900000        3.900000      3.900000  \n",
      "4761  3.926864        3.926864      3.926864  \n",
      "5921  1.000000        1.000000      1.000000  \n",
      "6010  1.000000        1.000000      1.000000  \n",
      "2098  3.000000        3.000000      3.000000  \n",
      "2177  3.500000        3.500000      3.500000  \n",
      "8956  4.000000        4.000000      4.000000  \n",
      "7177  4.000000        4.000000      4.000000  \n"
     ]
    }
   ],
   "source": [
    "# Test Case 3\n",
    "print(get_recommendations('NutriPro Juicer Mixer Grinder - Smoothie Maker - 500 Watts (3 Jar, Silver)'))"
   ]
  },
  {
   "cell_type": "code",
   "execution_count": 18,
   "metadata": {},
   "outputs": [
    {
     "name": "stdout",
     "output_type": "stream",
     "text": [
      "                                                                                                                               name  \\\n",
      "9280                           Prestige IRIS Plus 750 watt mixer grinder & Electric Kettle PKOSS - 1500watts, Steel (1.5Ltr), Black   \n",
      "6567                                                                              Prestige PKOSS 1.2-Litre Electric Kettle (Silver)   \n",
      "6667                                                                              Prestige PKOSS 1.2-Litre Electric Kettle (Silver)   \n",
      "487                                                                                            Prestige PKOSS 1.8 Litre Kettle, Red   \n",
      "2485                                                                                  Prestige Electric kettle - PKCS 1.2 L, Silver   \n",
      "5674                                                                                       Prestige Glass Kettle PGKL 1.2 L (Black)   \n",
      "3999  GIONEE Brings 1100W 0.5ltr Double Wall Portable Steel body small Electric Kettle for Water/Tea/Coffee/Milk/Noodle with fas...   \n",
      "4059  GIONEE Brings 1100W 0.5ltr Double Wall Portable Steel body small Electric Kettle for Water/Tea/Coffee/Milk/Noodle with fas...   \n",
      "39                                                                      Prestige PKGSS 1.7L 1500W Electric Kettle (Stainless Steel)   \n",
      "6064                                           Borosil Eva Cool Touch 0.6 LTR Stainless Steel Kettle Electric Kettle (0.6 L, Black)   \n",
      "\n",
      "                                                                                                                                    link  \\\n",
      "9280      https://www.amazon.in/Prestige-mixer-grinder-Electric-Kettle/dp/B09SM3Z8QF/ref=sr_1_9305?qid=1679136111&s=appliances&sr=1-9305   \n",
      "6567    https://www.amazon.in/Prestige-PKOSS-1-2-Litre-Electric-Kettle/dp/B0752GKLZQ/ref=sr_1_6592?qid=1679135964&s=appliances&sr=1-6592   \n",
      "6667    https://www.amazon.in/Prestige-PKOSS-1-2-Litre-Electric-Kettle/dp/B0752GKLZQ/ref=sr_1_6692?qid=1679135970&s=appliances&sr=1-6692   \n",
      "487                  https://www.amazon.in/Prestige-PKOSS-1-8-Kettle-Red/dp/B07XRVWCDD/ref=sr_1_488?qid=1679135615&s=appliances&sr=1-488   \n",
      "2485           https://www.amazon.in/Prestige-Electric-Kettle-PKCS-1-2/dp/B07TXCSDM6/ref=sr_1_2486?qid=1679135735&s=appliances&sr=1-2486   \n",
      "5674              https://www.amazon.in/Prestige-Glass-Kettle-PGKL-1-2/dp/B087S264QH/ref=sr_1_5699?qid=1679135914&s=appliances&sr=1-5699   \n",
      "3999  https://www.amazon.in/GIONEE-Portable-Electric-powerful-Shut-off/dp/B09SWZZSW2/ref=sr_1_4000?qid=1679135819&s=appliances&sr=1-4000   \n",
      "4059  https://www.amazon.in/GIONEE-Portable-Electric-powerful-Shut-off/dp/B09SWZZSW2/ref=sr_1_4060?qid=1679135824&s=appliances&sr=1-4060   \n",
      "39          https://www.amazon.in/Prestige-PKGSS-Electric-Kettle-Stainless/dp/B00NW4UWN6/ref=sr_1_40?qid=1679135586&s=appliances&sr=1-40   \n",
      "6064     https://www.amazon.in/Borosil-Touch-Stainless-Kettle-Electric/dp/B09BNQ3C7K/ref=sr_1_6089?qid=1679135936&s=appliances&sr=1-6089   \n",
      "\n",
      "      ratings  discount_price  actual_price  \n",
      "9280      3.7             3.7           3.7  \n",
      "6567      4.1             4.1           4.1  \n",
      "6667      4.1             4.1           4.1  \n",
      "487       3.8             3.8           3.8  \n",
      "2485      3.8             3.8           3.8  \n",
      "5674      3.9             3.9           3.9  \n",
      "3999      3.8             3.8           3.8  \n",
      "4059      3.8             3.8           3.8  \n",
      "39        3.8             3.8           3.8  \n",
      "6064      3.9             3.9           3.9  \n"
     ]
    }
   ],
   "source": [
    "# Testing the Hybird Recommendation System\n",
    "# Test Case 1\n",
    "print(hybrid_recommendations('Prestige Electric Kettle PKOSS - 1500watts, Steel (1.5Ltr), Black'))"
   ]
  },
  {
   "cell_type": "code",
   "execution_count": 19,
   "metadata": {},
   "outputs": [
    {
     "name": "stdout",
     "output_type": "stream",
     "text": [
      "                                                                                                                               name  \\\n",
      "9199  Glenoxzone Multipurpose Portable Electronic Digital Weighing Scale Weight Machine, Kitchen Weighing Scale Digital (10 KG),...   \n",
      "9317  Glenoxzone Multipurpose Portable Electronic Digital Weighing Scale Weight Machine, Kitchen Weighing Scale Digital (10 KG),...   \n",
      "211                          Stewit Multipurpose Portable Electronic Digital Weighing Scale Weight Machine | Weight Machine | 10 Kg   \n",
      "5421                                              Thermomate Multipurpose Portable Electronic Digital Weighing Scale Weight Machine   \n",
      "3      beatXP Kitchen Scale Multipurpose Portable Electronic Digital Weighing Scale | Weight Machine With Back light LCD Display...   \n",
      "1864                                                 Generic Electronic Kitchen Digital Weighing Scale, Multipurpose (White, 10 Kg)   \n",
      "956   IONIX Stainless Steel Digital Electronic Kitchen Scale | Weighing scale, Digital Weight Machine, Weight Machine for Home K...   \n",
      "5009  SELMEZ® 10kg Portable Electronic Digital Weighing Scale Weight Machine Digital Kitchen Scale Weighing Machine with Backlit...   \n",
      "389   Digital Kitchen Weighing Scale 0.1Gm To 10 Kg Portable Weighting Machine For Home Electronic Food Weight Machine Lcd Black...   \n",
      "5361  Digital Kitchen Weighing Scale 0.1Gm To 10 Kg Portable Weighting Machine For Home Electronic Food Weight Machine Lcd Black...   \n",
      "\n",
      "                                                                                                                                                                                                 link  \\\n",
      "9199                                                     https://www.amazon.in/GLENOXZONE-Multipurpose-Portable-Electronic-Weighing/dp/B09DT6M9CP/ref=sr_1_9224?qid=1679136107&s=appliances&sr=1-9224   \n",
      "9317                                                     https://www.amazon.in/GLENOXZONE-Multipurpose-Portable-Electronic-Weighing/dp/B09DT6M9CP/ref=sr_1_9342?qid=1679136114&s=appliances&sr=1-9342   \n",
      "211                                                            https://www.amazon.in/Stewit-Multipurpose-Portable-Electronic-Weighing/dp/B0BRJ1GVYS/ref=sr_1_212?qid=1679135597&s=appliances&sr=1-212   \n",
      "5421                                                     https://www.amazon.in/Thermomate-Multipurpose-Portable-Electronic-Weighing/dp/B09TVM97FP/ref=sr_1_5446?qid=1679135899&s=appliances&sr=1-5446   \n",
      "3                                                                  https://www.amazon.in/beatXP-Multipurpose-Portable-Electronic-Weighing/dp/B0B61DSF17/ref=sr_1_4?qid=1679135585&s=appliances&sr=1-4   \n",
      "1864  https://www.amazon.in/Generic-Electronic-Kitchen-Weighing-Multipurpose/dp/B07VRM858L/ref=sr_1_1865_mod_primary_new?qid=1679135699&s=appliances&sbo=RZvfv%2F%2FHxDF%2BO5021pAnSA%3D%3D&sr=1-1865   \n",
      "956                                                             https://www.amazon.in/Ionix-Weighing-Multipurpose-Portable-Electronic/dp/B085NXSW51/ref=sr_1_957?qid=1679135643&s=appliances&sr=1-957   \n",
      "5009                                                             https://www.amazon.in/RC-Enterprises-Electronic-Ultimate-Vegetable/dp/B07WPFRPWN/ref=sr_1_5034?qid=1679135876&s=appliances&sr=1-5034   \n",
      "389                                                         https://www.amazon.in/Weighting-Electronic-Measuring-Vegetable-Machine-10/dp/B0BH512WSN/ref=sr_1_390?qid=1679135608&s=appliances&sr=1-390   \n",
      "5361                                                        https://www.amazon.in/Weighing-Weighting-Electronic-Measuring-Vegetable/dp/B09PZWQL8J/ref=sr_1_5386?qid=1679135897&s=appliances&sr=1-5386   \n",
      "\n",
      "      ratings  discount_price  actual_price  \n",
      "9199      5.0             5.0           5.0  \n",
      "9317      5.0             5.0           5.0  \n",
      "211       4.1             4.1           4.1  \n",
      "5421      5.0             5.0           5.0  \n",
      "3         3.7             3.7           3.7  \n",
      "1864      3.7             3.7           3.7  \n",
      "956       3.8             3.8           3.8  \n",
      "5009      4.0             4.0           4.0  \n",
      "389       4.3             4.3           4.3  \n",
      "5361      3.6             3.6           3.6  \n"
     ]
    }
   ],
   "source": [
    "# Test Case 2\n",
    "print(hybrid_recommendations('Glun Multipurpose Portable Electronic Digital Weighing Scale Weight Machine (10 Kg - with Back Light)'))"
   ]
  },
  {
   "cell_type": "code",
   "execution_count": 20,
   "metadata": {},
   "outputs": [
    {
     "name": "stdout",
     "output_type": "stream",
     "text": [
      "                                                                                                                        name  \\\n",
      "64                      Bajaj DX-7 1000W Dry Iron with Advance Soleplate and Anti-bacterial German Coating Technology, White   \n",
      "19    Bajaj Majesty DX-11 1000W Dry Iron with Advance Soleplate and Anti-bacterial German Coating Technology, White and Blue   \n",
      "70                       Bajaj DX-2 600W Dry Iron with Advance Soleplate and Anti-bacterial German Coating Technology, Black   \n",
      "93                        Bajaj DX-2 600W Dry Iron with Advance Soleplate and Anti-Bacterial German Coating Technology, Grey   \n",
      "2217    Bajaj Popular Light Weight 1000W Dry Iron with Advance Soleplate and Anti-Bacterial German Coating Technology, White   \n",
      "166       Bajaj DHX-9 1000W Heavy Weight Dry Iron with Advance Soleplate and Anti-Bacterial German Coating Technology, Ivory   \n",
      "1249             Bajaj Popular Plus 750W Dry Iron with Advance Soleplate and Anti-Bacterial German Coating Technology, White   \n",
      "7882                                                                             Bajaj Neo 1000W DX 4 Plastic Dry Iron, Blue   \n",
      "7926                                                                                   Bajaj DX 4 L/W 1000-Watt Iron (White)   \n",
      "3926                                                                      Bajaj Majesty DX 8 1000-Watt Dry Iron (Grey/White)   \n",
      "\n",
      "                                                                                                                                                                              link  \\\n",
      "64                                                                 https://www.amazon.in/Bajaj-DX-1000-Watt-Dry-Iron/dp/B008YW8M0G/ref=sr_1_65?qid=1679135588&s=appliances&sr=1-65   \n",
      "19                                                          https://www.amazon.in/Bajaj-Majesty-1000-Watt-Iron-White/dp/B01C8P29T4/ref=sr_1_20?qid=1679135585&s=appliances&sr=1-20   \n",
      "70                                                             https://www.amazon.in/Bajaj-DX-600-Watts-Light-Weight/dp/B00F159RIK/ref=sr_1_71?qid=1679135588&s=appliances&sr=1-71   \n",
      "93                                                              https://www.amazon.in/Bajaj-DX-600-Watt-Light-Weight/dp/B00SMJPA9C/ref=sr_1_94?qid=1679135589&s=appliances&sr=1-94   \n",
      "2217                                                  https://www.amazon.in/Bajaj-Popular-1000-Watt-Light-Weight/dp/B009P2L8K0/ref=sr_1_2218?qid=1679135720&s=appliances&sr=1-2218   \n",
      "166                                                          https://www.amazon.in/Bajaj-DHX-1000-Watt-Ivory-Color/dp/B009P2L7CO/ref=sr_1_167?qid=1679135594&s=appliances&sr=1-167   \n",
      "1249                                                     https://www.amazon.in/Bajaj-Popular-Plus-750-Watt-White/dp/B009P2L8SC/ref=sr_1_1250?qid=1679135662&s=appliances&sr=1-1250   \n",
      "7882                                                          https://www.amazon.in/Bajaj-Neo-1000W-Plastic-Iron/dp/B07MJGRV6D/ref=sr_1_7907?qid=1679136037&s=appliances&sr=1-7907   \n",
      "7926  https://www.amazon.in/Bajaj-DX-1000-Watt-Iron-White/dp/B00MZOGTG8/ref=sr_1_7951_mod_primary_new?qid=1679136040&s=appliances&sbo=RZvfv%2F%2FHxDF%2BO5021pAnSA%3D%3D&sr=1-7951   \n",
      "3926                                                      https://www.amazon.in/Bajaj-Majesty-DX-1000-Watt-White/dp/B00WJXC2GG/ref=sr_1_3927?qid=1679135816&s=appliances&sr=1-3927   \n",
      "\n",
      "      ratings  discount_price  actual_price  \n",
      "64        4.2             4.2           4.2  \n",
      "19        4.2             4.2           4.2  \n",
      "70        4.1             4.1           4.1  \n",
      "93        4.1             4.1           4.1  \n",
      "2217      4.2             4.2           4.2  \n",
      "166       4.2             4.2           4.2  \n",
      "1249      4.1             4.1           4.1  \n",
      "7882      4.4             4.4           4.4  \n",
      "7926      4.0             4.0           4.0  \n",
      "3926      4.2             4.2           4.2  \n"
     ]
    }
   ],
   "source": [
    "# Test Case 3\n",
    "print(hybrid_recommendations('Bajaj DX-6 1000W Dry Iron with Advance Soleplate and Anti-bacterial German Coating Technology, White'))"
   ]
  },
  {
   "cell_type": "markdown",
   "metadata": {},
   "source": [
    "## Evaluate the recommendation model\n",
    "\n",
    "This section assesses the performance of the recommendation system using various metrics.\n",
    "\n",
    "1. **Recommendation Coverage**:\n",
    "   - Measures the proportion of unique products recommended out of the total number of products.\n",
    "   - Provides an indication of the breadth of recommendations generated by the system.\n",
    "\n",
    "2. **Sampling**:\n",
    "    - Randomly samples a subset of products from the dataset to evaluate the model.\n",
    "    - Helps in obtaining a representative performance metric without evaluating the entire dataset.\n",
    "\n",
    "3. **Output**:\n",
    "    - Prints the coverage metric, which reflects the model's ability to generate diverse recommendations.\n",
    "\n",
    "4. **Plot ratings distribution for insights**: \n",
    "    - Visualizes the distribution of product ratings across the dataset. \n",
    "    - The x-axis represents the rating values, while the y-axis shows the number of products that fall into each rating range."
   ]
  },
  {
   "cell_type": "code",
   "execution_count": 21,
   "metadata": {},
   "outputs": [
    {
     "name": "stdout",
     "output_type": "stream",
     "text": [
      "Recommendation Coverage: 8.89%\n"
     ]
    },
    {
     "data": {
      "image/png": "[encoded data removed]",
      "text/plain": [
       "<Figure size 432x288 with 1 Axes>"
      ]
     },
     "metadata": {
      "needs_background": "light"
     },
     "output_type": "display_data"
    }
   ],
   "source": [
    "def evaluate_model():\n",
    "    num_recommendations = 10\n",
    "    unique_recommendations = set()\n",
    "    total_recommendations = 0\n",
    "\n",
    "    # Set a fixed seed for reproducibility\n",
    "    np.random.seed(42)\n",
    "    sample_products = df['name'].sample(100, random_state=42)\n",
    "\n",
    "    for product_name in sample_products:\n",
    "        recommendations = get_recommendations(product_name)\n",
    "        \n",
    "        if isinstance(recommendations, str):  # Handle product not found case\n",
    "            continue\n",
    "        \n",
    "        recommended_products = set(recommendations['name'])\n",
    "        unique_recommendations.update(recommended_products)\n",
    "        total_recommendations += len(recommended_products)\n",
    "\n",
    "    coverage = len(unique_recommendations) / len(df)\n",
    "\n",
    "    print(f'Recommendation Coverage: {coverage * 100:.2f}%')\n",
    "\n",
    "# Evaluate the model\n",
    "evaluate_model()\n",
    "\n",
    "# Plot ratings distribution for insights\n",
    "plt.hist(df['ratings'], bins=50)\n",
    "plt.xlabel('Ratings')\n",
    "plt.ylabel('Number of Products')\n",
    "plt.title('Distribution of Product Ratings')\n",
    "plt.show()"
   ]
  },
  {
   "cell_type": "code",
   "execution_count": null,
   "metadata": {},
   "outputs": [],
   "source": []
  }
 ],
 "metadata": {
  "kernelspec": {
   "display_name": "Python 3",
   "language": "python",
   "name": "python3"
  },
  "language_info": {
   "codemirror_mode": {
    "name": "ipython",
    "version": 3
   },
   "file_extension": ".py",
   "mimetype": "text/x-python",
   "name": "python",
   "nbconvert_exporter": "python",
   "pygments_lexer": "ipython3",
   "version": "3.8.3"
  }
 },
 "nbformat": 4,
 "nbformat_minor": 4
}
